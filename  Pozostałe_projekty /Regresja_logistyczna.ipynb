{
  "nbformat": 4,
  "nbformat_minor": 0,
  "metadata": {
    "colab": {
      "name": "Regresja logistyczna.ipynb",
      "provenance": [],
      "authorship_tag": "ABX9TyOWOp11ezygbQyyU2wA/fYs",
      "include_colab_link": true
    },
    "kernelspec": {
      "name": "python3",
      "display_name": "Python 3"
    }
  },
  "cells": [
    {
      "cell_type": "markdown",
      "metadata": {
        "id": "view-in-github",
        "colab_type": "text"
      },
      "source": [
        "<a href=\"https://colab.research.google.com/github/amaziarczyk/Projects/blob/master/%20Pozosta%C5%82e_projekty%20/Regresja_logistyczna.ipynb\" target=\"_parent\"><img src=\"https://colab.research.google.com/assets/colab-badge.svg\" alt=\"Open In Colab\"/></a>"
      ]
    },
    {
      "cell_type": "code",
      "metadata": {
        "id": "ju6qyZTIfAY-"
      },
      "source": [
        "# import bibliotek\n",
        "import pandas as pd\n",
        "import numpy as np\n",
        "import sklearn\n",
        "import matplotlib.pyplot as plt\n",
        "import seaborn as sns\n",
        "import plotly.express as px"
      ],
      "execution_count": 51,
      "outputs": []
    },
    {
      "cell_type": "code",
      "metadata": {
        "id": "cZrBqDlffJYg"
      },
      "source": [
        "sns.set()"
      ],
      "execution_count": 17,
      "outputs": []
    },
    {
      "cell_type": "code",
      "metadata": {
        "id": "IWrzno12fQNw"
      },
      "source": [
        "#załadowanie zbioru\n",
        "from sklearn.datasets import  load_breast_cancer"
      ],
      "execution_count": 18,
      "outputs": []
    },
    {
      "cell_type": "code",
      "metadata": {
        "id": "S0rdmy2BfZsd"
      },
      "source": [
        "raw_data= load_breast_cancer()"
      ],
      "execution_count": 25,
      "outputs": []
    },
    {
      "cell_type": "code",
      "metadata": {
        "colab": {
          "base_uri": "https://localhost:8080/"
        },
        "id": "5m_oXEbYfb48",
        "outputId": "9fcf2a2e-192c-428a-979d-21d82491dccb"
      },
      "source": [
        "#sprawdzenie zbioru\n",
        "raw_data.keys()"
      ],
      "execution_count": 26,
      "outputs": [
        {
          "output_type": "execute_result",
          "data": {
            "text/plain": [
              "dict_keys(['data', 'target', 'target_names', 'DESCR', 'feature_names', 'filename'])"
            ]
          },
          "metadata": {
            "tags": []
          },
          "execution_count": 26
        }
      ]
    },
    {
      "cell_type": "code",
      "metadata": {
        "id": "4IWlexpYf7pd"
      },
      "source": [
        "# wyznaczenie data i target\n",
        "data=raw_data['data']\n",
        "target=raw_data['target']"
      ],
      "execution_count": 29,
      "outputs": []
    },
    {
      "cell_type": "code",
      "metadata": {
        "id": "ZNRcmljegPw7"
      },
      "source": [
        "# podział na zbiór treningowy i testowy\n",
        "from sklearn.model_selection import train_test_split"
      ],
      "execution_count": 30,
      "outputs": []
    },
    {
      "cell_type": "code",
      "metadata": {
        "id": "Zl3v6CQ5ggjZ"
      },
      "source": [
        "X_train, X_test, y_train, y_test = train_test_split(data, target)"
      ],
      "execution_count": 32,
      "outputs": []
    },
    {
      "cell_type": "code",
      "metadata": {
        "colab": {
          "base_uri": "https://localhost:8080/"
        },
        "id": "aXH6PhDdgo7c",
        "outputId": "10db58aa-4fd3-4aa5-d092-f2b9b5a23664"
      },
      "source": [
        "print(\"X_train\", X_train.shape)\n",
        "print(\"X_test\", X_test.shape)\n",
        "print(\"y_train\", y_train.shape)\n",
        "print(\"y_test\", y_test.shape)"
      ],
      "execution_count": 36,
      "outputs": [
        {
          "output_type": "stream",
          "text": [
            "X_train (426, 30)\n",
            "X_test (143, 30)\n",
            "y_train (426,)\n",
            "y_test (143,)\n"
          ],
          "name": "stdout"
        }
      ]
    },
    {
      "cell_type": "code",
      "metadata": {
        "colab": {
          "base_uri": "https://localhost:8080/"
        },
        "id": "Md8fO0dOg3ff",
        "outputId": "6b665b69-6ddf-4ac7-dd66-f8d8a1ec3486"
      },
      "source": [
        "X_train[:5]"
      ],
      "execution_count": 38,
      "outputs": [
        {
          "output_type": "execute_result",
          "data": {
            "text/plain": [
              "array([[  13.87    ,   16.21    ,   88.52    ,  593.7     ,    0.08743 ,\n",
              "           0.05492 ,    0.01502 ,    0.02088 ,    0.1424  ,    0.05883 ,\n",
              "           0.2543  ,    1.363   ,    1.737   ,   20.74    ,    0.005638,\n",
              "           0.007939,    0.005254,    0.006042,    0.01544 ,    0.002087,\n",
              "          15.11    ,   25.58    ,   96.74    ,  694.4     ,    0.1153  ,\n",
              "           0.1008  ,    0.05285 ,    0.05556 ,    0.2362  ,    0.07113 ],\n",
              "       [  15.46    ,   23.95    ,  103.8     ,  731.3     ,    0.1183  ,\n",
              "           0.187   ,    0.203   ,    0.0852  ,    0.1807  ,    0.07083 ,\n",
              "           0.3331  ,    1.961   ,    2.937   ,   32.52    ,    0.009538,\n",
              "           0.0494  ,    0.06019 ,    0.02041 ,    0.02105 ,    0.006   ,\n",
              "          17.11    ,   36.33    ,  117.7     ,  909.4     ,    0.1732  ,\n",
              "           0.4967  ,    0.5911  ,    0.2163  ,    0.3013  ,    0.1067  ],\n",
              "       [  12.05    ,   22.72    ,   78.75    ,  447.8     ,    0.06935 ,\n",
              "           0.1073  ,    0.07943 ,    0.02978 ,    0.1203  ,    0.06659 ,\n",
              "           0.1194  ,    1.434   ,    1.778   ,    9.549   ,    0.005042,\n",
              "           0.0456  ,    0.04305 ,    0.01667 ,    0.0247  ,    0.007358,\n",
              "          12.57    ,   28.71    ,   87.36    ,  488.4     ,    0.08799 ,\n",
              "           0.3214  ,    0.2912  ,    0.1092  ,    0.2191  ,    0.09349 ],\n",
              "       [  25.22    ,   24.91    ,  171.5     , 1878.      ,    0.1063  ,\n",
              "           0.2665  ,    0.3339  ,    0.1845  ,    0.1829  ,    0.06782 ,\n",
              "           0.8973  ,    1.474   ,    7.382   ,  120.      ,    0.008166,\n",
              "           0.05693 ,    0.0573  ,    0.0203  ,    0.01065 ,    0.005893,\n",
              "          30.      ,   33.62    ,  211.7     , 2562.      ,    0.1573  ,\n",
              "           0.6076  ,    0.6476  ,    0.2867  ,    0.2355  ,    0.1051  ],\n",
              "       [  12.86    ,   18.      ,   83.19    ,  506.3     ,    0.09934 ,\n",
              "           0.09546 ,    0.03889 ,    0.02315 ,    0.1718  ,    0.05997 ,\n",
              "           0.2655  ,    1.095   ,    1.778   ,   20.35    ,    0.005293,\n",
              "           0.01661 ,    0.02071 ,    0.008179,    0.01748 ,    0.002848,\n",
              "          14.24    ,   24.82    ,   91.88    ,  622.1     ,    0.1289  ,\n",
              "           0.2141  ,    0.1731  ,    0.07926 ,    0.2779  ,    0.07918 ]])"
            ]
          },
          "metadata": {
            "tags": []
          },
          "execution_count": 38
        }
      ]
    },
    {
      "cell_type": "code",
      "metadata": {
        "id": "7cejy3xwhO60"
      },
      "source": [
        "# skalowanie wartości X\n",
        "from sklearn.preprocessing import StandardScaler"
      ],
      "execution_count": 39,
      "outputs": []
    },
    {
      "cell_type": "code",
      "metadata": {
        "id": "J37td-UNhbYp"
      },
      "source": [
        "scaler=StandardScaler()\n",
        "X_train=scaler.fit_transform(X_train)\n",
        "X_test=scaler.fit_transform(X_test)"
      ],
      "execution_count": 41,
      "outputs": []
    },
    {
      "cell_type": "code",
      "metadata": {
        "id": "uSBZ3Ul_hsWA"
      },
      "source": [
        "# import Regresji logistycznej\n",
        "from sklearn.linear_model import LogisticRegression"
      ],
      "execution_count": 42,
      "outputs": []
    },
    {
      "cell_type": "code",
      "metadata": {
        "colab": {
          "base_uri": "https://localhost:8080/"
        },
        "id": "fihAqRaYh-pq",
        "outputId": "b4c29a41-867d-4211-f05a-b3819a389b8b"
      },
      "source": [
        "log=LogisticRegression()\n",
        "log.fit(X_train, y_train)\n",
        "y_pred=log.predict(X_test)\n",
        "y_pred[:10]"
      ],
      "execution_count": 44,
      "outputs": [
        {
          "output_type": "execute_result",
          "data": {
            "text/plain": [
              "array([1, 1, 1, 1, 1, 1, 1, 0, 1, 1])"
            ]
          },
          "metadata": {
            "tags": []
          },
          "execution_count": 44
        }
      ]
    },
    {
      "cell_type": "code",
      "metadata": {
        "id": "g2Ssj3KEiKIC"
      },
      "source": [
        "# sprawdzenie dopasowania modelu\n",
        "from sklearn.metrics import confusion_matrix"
      ],
      "execution_count": 45,
      "outputs": []
    },
    {
      "cell_type": "code",
      "metadata": {
        "id": "w6lcAFmAj4Or"
      },
      "source": [
        "from mlxtend.plotting import plot_confusion_matrix"
      ],
      "execution_count": 52,
      "outputs": []
    },
    {
      "cell_type": "code",
      "metadata": {
        "colab": {
          "base_uri": "https://localhost:8080/"
        },
        "id": "l0OW7iOuimAH",
        "outputId": "421704ae-1ab3-446e-d466-dd8b15c004f1"
      },
      "source": [
        "confusion_matrix(y_test, y_pred)"
      ],
      "execution_count": 46,
      "outputs": [
        {
          "output_type": "execute_result",
          "data": {
            "text/plain": [
              "array([[46,  1],\n",
              "       [ 3, 93]])"
            ]
          },
          "metadata": {
            "tags": []
          },
          "execution_count": 46
        }
      ]
    },
    {
      "cell_type": "code",
      "metadata": {
        "colab": {
          "base_uri": "https://localhost:8080/",
          "height": 322
        },
        "id": "pY74fNWinCbD",
        "outputId": "fa0fe895-10fd-40fc-d98b-2a170d9d8c78"
      },
      "source": [
        "plot_confusion_matrix(confusion_matrix(y_test, y_pred))"
      ],
      "execution_count": 53,
      "outputs": [
        {
          "output_type": "execute_result",
          "data": {
            "text/plain": [
              "(<Figure size 432x288 with 1 Axes>,\n",
              " <matplotlib.axes._subplots.AxesSubplot at 0x7fcae9b6ca20>)"
            ]
          },
          "metadata": {
            "tags": []
          },
          "execution_count": 53
        },
        {
          "output_type": "display_data",
          "data": {
            "image/png": "[encoded data removed]",
            "text/plain": [
              "<Figure size 432x288 with 1 Axes>"
            ]
          },
          "metadata": {
            "tags": []
          }
        }
      ]
    },
    {
      "cell_type": "code",
      "metadata": {
        "id": "TLNgG-ppiyka"
      },
      "source": [
        "# dopasowanie modelu\n",
        "from sklearn.metrics import accuracy_score"
      ],
      "execution_count": 47,
      "outputs": []
    },
    {
      "cell_type": "code",
      "metadata": {
        "colab": {
          "base_uri": "https://localhost:8080/"
        },
        "id": "D3PxymvvjAC6",
        "outputId": "00fabd37-6a02-44a8-b97c-d37874415cc8"
      },
      "source": [
        "accuracy_score(y_test, y_pred)"
      ],
      "execution_count": 48,
      "outputs": [
        {
          "output_type": "execute_result",
          "data": {
            "text/plain": [
              "0.972027972027972"
            ]
          },
          "metadata": {
            "tags": []
          },
          "execution_count": 48
        }
      ]
    }
  ]
}
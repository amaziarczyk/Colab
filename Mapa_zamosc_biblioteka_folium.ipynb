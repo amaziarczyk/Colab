{
  "nbformat": 4,
  "nbformat_minor": 0,
  "metadata": {
    "colab": {
      "name": "Mapa_zamosc.ipynb",
      "provenance": [],
      "collapsed_sections": [],
      "authorship_tag": "ABX9TyPLxCykPB7+edEeGiu73Tv7",
      "include_colab_link": true
    },
    "kernelspec": {
      "name": "python3",
      "display_name": "Python 3"
    }
  },
  "cells": [
    {
      "cell_type": "markdown",
      "metadata": {
        "id": "view-in-github",
        "colab_type": "text"
      },
      "source": [
        "<a href=\"https://colab.research.google.com/github/amaziarczyk/Projects/blob/master/Mapa_zamosc_biblioteka_folium.ipynb\" target=\"_parent\"><img src=\"https://colab.research.google.com/assets/colab-badge.svg\" alt=\"Open In Colab\"/></a>"
      ]
    },
    {
      "cell_type": "code",
      "metadata": {
        "id": "W8DDGJWdA1gm",
        "colab_type": "code",
        "colab": {}
      },
      "source": [
        "import pandas as pd\n",
        "import folium "
      ],
      "execution_count": null,
      "outputs": []
    },
    {
      "cell_type": "code",
      "metadata": {
        "id": "MaZKmcn-B347",
        "colab_type": "code",
        "colab": {}
      },
      "source": [
        "mapa_zamosc = folium.Map(location=[50.720556,23.258611], \n",
        "           zoom_start=15)"
      ],
      "execution_count": null,
      "outputs": []
    },
    {
      "cell_type": "code",
      "metadata": {
        "id": "GZW0od2sFFYl",
        "colab_type": "code",
        "colab": {
          "base_uri": "https://localhost:8080/",
          "height": 760
        },
        "outputId": "f9fd5746-9380-4f0b-f38d-64a0fe894aa5"
      },
      "source": [
        "\n",
        "tooltip = \"Co tu mamy ciekawego?\",\n",
        "folium.Marker([50.717200, 23.252614],\n",
        "              popup = \"Rynek Wielki\",\n",
        "              tooltip = tooltip,\n",
        "              icon=folium.Icon(color=\"r\",icon=\"home\")).add_to(mapa_zamosc)\n",
        "folium.Marker([50.715306, 23.239712],\n",
        "              popup = \"ZOO im.Stefana Millera\",\n",
        "              tooltip = tooltip,\n",
        "              icon=folium.Icon(color=\"green\",icon=\"tower\")).add_to(mapa_zamosc)\n",
        "folium.Marker([50.717505, 23.248744],\n",
        "              popup = \"Pałac Zamoyskich\",\n",
        "              tooltip = tooltip,\n",
        "              icon=folium.Icon(color=\"blue\",icon=\"info-sign\")).add_to(mapa_zamosc)\n",
        "mapa_zamosc.save(\"zamosc.html\")\n",
        "mapa_zamosc"
      ],
      "execution_count": null,
      "outputs": [
        {
          "output_type": "execute_result",
          "data": {
            "text/html": [
              "<div style=\"width:100%;\"><div style=\"position:relative;width:100%;height:0;padding-bottom:60%;\"><span style=\"color:#565656\">Make this Notebook Trusted to load map: File -> Trust Notebook</span><iframe src=\"about:blank\" style=\"position:absolute;width:100%;height:100%;left:0;top:0;border:none !important;\" data-html=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 onload=\"this.contentDocument.open();this.contentDocument.write(atob(this.getAttribute('data-html')));this.contentDocument.close();\" allowfullscreen webkitallowfullscreen mozallowfullscreen></iframe></div></div>"
            ],
            "text/plain": [
              "<folium.folium.Map at 0x7f4ecf6482e8>"
            ]
          },
          "metadata": {
            "tags": []
          },
          "execution_count": 33
        }
      ]
    },
    {
      "cell_type": "code",
      "metadata": {
        "id": "-JwpnmvRIADz",
        "colab_type": "code",
        "colab": {}
      },
      "source": [
        ""
      ],
      "execution_count": null,
      "outputs": []
    }
  ]
}
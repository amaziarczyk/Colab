{
  "nbformat": 4,
  "nbformat_minor": 0,
  "metadata": {
    "colab": {
      "name": "Prosty_kalkulator.ipynb",
      "provenance": [],
      "authorship_tag": "ABX9TyPEWHJrecs/cFsgQVyQIpu+",
      "include_colab_link": true
    },
    "kernelspec": {
      "name": "python3",
      "display_name": "Python 3"
    }
  },
  "cells": [
    {
      "cell_type": "markdown",
      "metadata": {
        "id": "view-in-github",
        "colab_type": "text"
      },
      "source": [
        "<a href=\"https://colab.research.google.com/github/amaziarczyk/Projects/blob/master/Pozosta%C5%82e_projekty/Prosty_kalkulator.ipynb\" target=\"_parent\"><img src=\"https://colab.research.google.com/assets/colab-badge.svg\" alt=\"Open In Colab\"/></a>"
      ]
    },
    {
      "cell_type": "markdown",
      "metadata": {
        "id": "v7T9ag-hh8Xz"
      },
      "source": [
        "Kalkulator"
      ]
    },
    {
      "cell_type": "code",
      "metadata": {
        "colab": {
          "base_uri": "https://localhost:8080/"
        },
        "id": "f2Tvbr06cCEM",
        "outputId": "41642739-f3f3-48da-b36b-d035cd4a2ddc"
      },
      "source": [
        "a=float(input('Podaj pierwszą liczbę :'))\r\n",
        "b=float(input('Podaj drugą liczbę :'))\r\n",
        "\r\n",
        "print()\r\n",
        "print('Podałeś liczbę: ', a)\r\n",
        "print('Podałeś liczbę: ', b)\r\n",
        "print()\r\n",
        "print('Jakie działanie chcesz wykonać? ','\\n',\r\n",
        "      '1. Dodawanie','\\n',\r\n",
        "      '2. Odejmowanie','\\n',\r\n",
        "      '3. Mnożenie','\\n',\r\n",
        "      '4. Dzielenie')\r\n",
        "działanie= input('Podaj numer działania, które chcesz wykonać ')\r\n",
        "if działanie=='1':\r\n",
        "  print('Wynik to ',a+b)\r\n",
        "if działanie=='2':\r\n",
        "  print('Wynik to ',a-b)\r\n",
        "if działanie=='3':\r\n",
        "  print('Wynik to ',a*b)\r\n",
        "if działanie=='4':\r\n",
        "  print('Wynik to ',a/b)"
      ],
      "execution_count": 24,
      "outputs": [
        {
          "output_type": "stream",
          "text": [
            "Podaj pierwszą liczbę :10\n",
            "Podaj drugą liczbę :3\n",
            "\n",
            "Podałeś liczbę:  10.0\n",
            "Podałeś liczbę:  3.0\n",
            "\n",
            "Jakie działanie chcesz wykonać?  \n",
            " 1. Dodawanie \n",
            " 2. Odejmowanie \n",
            " 3. Mnożenie \n",
            " 4. Dzielenie\n",
            "Podaj numer działania, które chcesz wykonać 4\n",
            "Wynik to  3.3333333333333335\n"
          ],
          "name": "stdout"
        }
      ]
    },
    {
      "cell_type": "code",
      "metadata": {
        "id": "kJXPaJ8fcUQ9"
      },
      "source": [
        ""
      ],
      "execution_count": null,
      "outputs": []
    }
  ]
}
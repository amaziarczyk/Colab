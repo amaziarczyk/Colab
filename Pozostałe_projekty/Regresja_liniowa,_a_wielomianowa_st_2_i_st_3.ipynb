{
  "nbformat": 4,
  "nbformat_minor": 0,
  "metadata": {
    "colab": {
      "name": "Regresja liniowa, a wielomianowa st.2 i st.3.ipynb",
      "provenance": [],
      "authorship_tag": "ABX9TyPeglB1rKBuNpZ0CT0biN8T",
      "include_colab_link": true
    },
    "kernelspec": {
      "name": "python3",
      "display_name": "Python 3"
    }
  },
  "cells": [
    {
      "cell_type": "markdown",
      "metadata": {
        "id": "view-in-github",
        "colab_type": "text"
      },
      "source": [
        "<a href=\"https://colab.research.google.com/github/amaziarczyk/Projects/blob/master/Pozosta%C5%82e_projekty/Regresja_liniowa%2C_a_wielomianowa_st_2_i_st_3.ipynb\" target=\"_parent\"><img src=\"https://colab.research.google.com/assets/colab-badge.svg\" alt=\"Open In Colab\"/></a>"
      ]
    },
    {
      "cell_type": "markdown",
      "metadata": {
        "id": "8Tzo8dypq3uJ"
      },
      "source": [
        "Porównanie modelu regresji prostej i wielomianowej"
      ]
    },
    {
      "cell_type": "markdown",
      "metadata": {
        "id": "ty0OCWyBr0So"
      },
      "source": [
        "a) Model liniowy"
      ]
    },
    {
      "cell_type": "code",
      "metadata": {
        "id": "uq1yWpxujR62"
      },
      "source": [
        "import pandas as pd\n",
        "import numpy as np\n",
        "import matplotlib.pyplot as plt\n",
        "import sklearn"
      ],
      "execution_count": 1,
      "outputs": []
    },
    {
      "cell_type": "code",
      "metadata": {
        "id": "eChV1jE3jgAS"
      },
      "source": [
        "# wygenerowanie danych\n",
        "X=np.arange(-10,20,2)\n",
        "noise=80*np.random.rand(15)\n",
        "y=-X**3+10*X**2-2*X+3+noise\n",
        "X=X.reshape(15,1)"
      ],
      "execution_count": 2,
      "outputs": []
    },
    {
      "cell_type": "code",
      "metadata": {
        "colab": {
          "base_uri": "https://localhost:8080/",
          "height": 283
        },
        "id": "zyWCxg_sjrZ2",
        "outputId": "0c5e9270-e686-472f-8962-b47eb599e802"
      },
      "source": [
        "# sprawdzam jak wyglądają dane\n",
        "plt.figure(figsize=(6,4))\n",
        "plt.scatter(X,y)"
      ],
      "execution_count": 3,
      "outputs": [
        {
          "output_type": "execute_result",
          "data": {
            "text/plain": [
              "<matplotlib.collections.PathCollection at 0x7f2b1d572390>"
            ]
          },
          "metadata": {
            "tags": []
          },
          "execution_count": 3
        },
        {
          "output_type": "display_data",
          "data": {
            "image/png": "[encoded data removed]",
            "text/plain": [
              "<Figure size 432x288 with 1 Axes>"
            ]
          },
          "metadata": {
            "tags": [],
            "needs_background": "light"
          }
        }
      ]
    },
    {
      "cell_type": "code",
      "metadata": {
        "id": "5Q5eQ6Bqj55z"
      },
      "source": [
        "#import regresji liniowej\n",
        "from sklearn.linear_model import LinearRegression"
      ],
      "execution_count": 4,
      "outputs": []
    },
    {
      "cell_type": "code",
      "metadata": {
        "colab": {
          "base_uri": "https://localhost:8080/"
        },
        "id": "_V2B8qs8kzOp",
        "outputId": "9e89a19f-b302-45ed-e090-33c2414019cd"
      },
      "source": [
        "# sprawdzam dopasowanie modelu\n",
        "regressor=LinearRegression()\n",
        "regressor.fit(X,y)\n",
        "y_pred_lin=regressor.predict(X)\n",
        "regressor.score(X,y)"
      ],
      "execution_count": 5,
      "outputs": [
        {
          "output_type": "execute_result",
          "data": {
            "text/plain": [
              "0.7430453252920131"
            ]
          },
          "metadata": {
            "tags": []
          },
          "execution_count": 5
        }
      ]
    },
    {
      "cell_type": "code",
      "metadata": {
        "colab": {
          "base_uri": "https://localhost:8080/",
          "height": 283
        },
        "id": "bnjdFK5hlJVf",
        "outputId": "1690e41a-3bd9-4c08-e3a3-fb32ec1fe8a1"
      },
      "source": [
        "# wizualna prezentacja dopasowania modelu liniowego\n",
        "plt.figure(figsize=(6,4))\n",
        "plt.scatter(X,y)\n",
        "plt.plot(X,y_pred_lin, c=\"red\")"
      ],
      "execution_count": 6,
      "outputs": [
        {
          "output_type": "execute_result",
          "data": {
            "text/plain": [
              "[<matplotlib.lines.Line2D at 0x7f2b1ab12390>]"
            ]
          },
          "metadata": {
            "tags": []
          },
          "execution_count": 6
        },
        {
          "output_type": "display_data",
          "data": {
            "image/png": "[encoded data removed]",
            "text/plain": [
              "<Figure size 432x288 with 1 Axes>"
            ]
          },
          "metadata": {
            "tags": [],
            "needs_background": "light"
          }
        }
      ]
    },
    {
      "cell_type": "markdown",
      "metadata": {
        "id": "DwZu438Sr7Cz"
      },
      "source": [
        "b) Model wielomianowy\n"
      ]
    },
    {
      "cell_type": "markdown",
      "metadata": {
        "id": "L4a1WRHLsAsa"
      },
      "source": [
        "      - sposób I- ręczne wstawienie x^2"
      ]
    },
    {
      "cell_type": "code",
      "metadata": {
        "colab": {
          "base_uri": "https://localhost:8080/",
          "height": 206
        },
        "id": "CiWe1hExm8vD",
        "outputId": "cb06e41d-bb0a-4016-ade1-cb639231c46c"
      },
      "source": [
        "# tworze Data Frame ze zmienną stopnia 2 (x^2)\n",
        "df=pd.DataFrame(data=X)\n",
        "df.columns=['x']\n",
        "df['x^2']=df['x']**2\n",
        "df['1']=1\n",
        "df.head()"
      ],
      "execution_count": 7,
      "outputs": [
        {
          "output_type": "execute_result",
          "data": {
            "text/html": [
              "<div>\n",
              "<style scoped>\n",
              "    .dataframe tbody tr th:only-of-type {\n",
              "        vertical-align: middle;\n",
              "    }\n",
              "\n",
              "    .dataframe tbody tr th {\n",
              "        vertical-align: top;\n",
              "    }\n",
              "\n",
              "    .dataframe thead th {\n",
              "        text-align: right;\n",
              "    }\n",
              "</style>\n",
              "<table border=\"1\" class=\"dataframe\">\n",
              "  <thead>\n",
              "    <tr style=\"text-align: right;\">\n",
              "      <th></th>\n",
              "      <th>x</th>\n",
              "      <th>x^2</th>\n",
              "      <th>1</th>\n",
              "    </tr>\n",
              "  </thead>\n",
              "  <tbody>\n",
              "    <tr>\n",
              "      <th>0</th>\n",
              "      <td>-10</td>\n",
              "      <td>100</td>\n",
              "      <td>1</td>\n",
              "    </tr>\n",
              "    <tr>\n",
              "      <th>1</th>\n",
              "      <td>-8</td>\n",
              "      <td>64</td>\n",
              "      <td>1</td>\n",
              "    </tr>\n",
              "    <tr>\n",
              "      <th>2</th>\n",
              "      <td>-6</td>\n",
              "      <td>36</td>\n",
              "      <td>1</td>\n",
              "    </tr>\n",
              "    <tr>\n",
              "      <th>3</th>\n",
              "      <td>-4</td>\n",
              "      <td>16</td>\n",
              "      <td>1</td>\n",
              "    </tr>\n",
              "    <tr>\n",
              "      <th>4</th>\n",
              "      <td>-2</td>\n",
              "      <td>4</td>\n",
              "      <td>1</td>\n",
              "    </tr>\n",
              "  </tbody>\n",
              "</table>\n",
              "</div>"
            ],
            "text/plain": [
              "    x  x^2  1\n",
              "0 -10  100  1\n",
              "1  -8   64  1\n",
              "2  -6   36  1\n",
              "3  -4   16  1\n",
              "4  -2    4  1"
            ]
          },
          "metadata": {
            "tags": []
          },
          "execution_count": 7
        }
      ]
    },
    {
      "cell_type": "code",
      "metadata": {
        "colab": {
          "base_uri": "https://localhost:8080/"
        },
        "id": "MJaoJY5WnJ1_",
        "outputId": "832bec52-7c14-4093-cb98-d97155da319c"
      },
      "source": [
        "# sprawdzam dopasowanie modelu\n",
        "regressor_2=LinearRegression()\n",
        "regressor_2.fit(df,y)\n",
        "y_pred_3=regressor_2.predict(df)\n",
        "regressor_2.score(df,y)"
      ],
      "execution_count": 8,
      "outputs": [
        {
          "output_type": "execute_result",
          "data": {
            "text/plain": [
              "0.7605056057355987"
            ]
          },
          "metadata": {
            "tags": []
          },
          "execution_count": 8
        }
      ]
    },
    {
      "cell_type": "code",
      "metadata": {
        "colab": {
          "base_uri": "https://localhost:8080/",
          "height": 283
        },
        "id": "en6-FC8tod_p",
        "outputId": "7cd582ca-6d05-49f2-90fb-9ad6dfcbea06"
      },
      "source": [
        "# porównuję modelliniowy (czerwony) i model wielomianowy (zielony)\n",
        "plt.figure(figsize=(6,4))\n",
        "plt.scatter(X,y)\n",
        "plt.plot(X,y_pred_lin, c=\"red\")\n",
        "plt.plot(X,y_pred_3, c=\"green\")"
      ],
      "execution_count": 9,
      "outputs": [
        {
          "output_type": "execute_result",
          "data": {
            "text/plain": [
              "[<matplotlib.lines.Line2D at 0x7f2b197d2ac8>]"
            ]
          },
          "metadata": {
            "tags": []
          },
          "execution_count": 9
        },
        {
          "output_type": "display_data",
          "data": {
            "image/png": "[encoded data removed]",
            "text/plain": [
              "<Figure size 432x288 with 1 Axes>"
            ]
          },
          "metadata": {
            "tags": [],
            "needs_background": "light"
          }
        }
      ]
    },
    {
      "cell_type": "markdown",
      "metadata": {
        "id": "FiIGFpmis3qA"
      },
      "source": [
        "      -II sposób - sklearn"
      ]
    },
    {
      "cell_type": "code",
      "metadata": {
        "id": "f_GHRVCYo1IF"
      },
      "source": [
        "# import biblioteki\n",
        "from sklearn.preprocessing import PolynomialFeatures\n"
      ],
      "execution_count": 10,
      "outputs": []
    },
    {
      "cell_type": "code",
      "metadata": {
        "id": "-d4hweAkpBDu"
      },
      "source": [
        "# tworzeę wielomian stopnia 2 \n",
        "polynomial=PolynomialFeatures(degree=2)\n",
        "X_polynomial= polynomial.fit_transform(X)"
      ],
      "execution_count": 29,
      "outputs": []
    },
    {
      "cell_type": "code",
      "metadata": {
        "id": "Z4rX9oUwpo_7"
      },
      "source": [
        "# Zmienne: X_polynomial i y"
      ],
      "execution_count": 12,
      "outputs": []
    },
    {
      "cell_type": "code",
      "metadata": {
        "colab": {
          "base_uri": "https://localhost:8080/",
          "height": 206
        },
        "id": "A8QVwEYDpQnh",
        "outputId": "ab236ba3-c096-4d33-d826-ab10ec0c422b"
      },
      "source": [
        "# sprawdzam jak wyglądają dane\n",
        "df_polynomial=pd.DataFrame(data=X_polynomial)\n",
        "\n",
        "df_polynomial.head()"
      ],
      "execution_count": 30,
      "outputs": [
        {
          "output_type": "execute_result",
          "data": {
            "text/html": [
              "<div>\n",
              "<style scoped>\n",
              "    .dataframe tbody tr th:only-of-type {\n",
              "        vertical-align: middle;\n",
              "    }\n",
              "\n",
              "    .dataframe tbody tr th {\n",
              "        vertical-align: top;\n",
              "    }\n",
              "\n",
              "    .dataframe thead th {\n",
              "        text-align: right;\n",
              "    }\n",
              "</style>\n",
              "<table border=\"1\" class=\"dataframe\">\n",
              "  <thead>\n",
              "    <tr style=\"text-align: right;\">\n",
              "      <th></th>\n",
              "      <th>0</th>\n",
              "      <th>1</th>\n",
              "      <th>2</th>\n",
              "    </tr>\n",
              "  </thead>\n",
              "  <tbody>\n",
              "    <tr>\n",
              "      <th>0</th>\n",
              "      <td>1.0</td>\n",
              "      <td>-10.0</td>\n",
              "      <td>100.0</td>\n",
              "    </tr>\n",
              "    <tr>\n",
              "      <th>1</th>\n",
              "      <td>1.0</td>\n",
              "      <td>-8.0</td>\n",
              "      <td>64.0</td>\n",
              "    </tr>\n",
              "    <tr>\n",
              "      <th>2</th>\n",
              "      <td>1.0</td>\n",
              "      <td>-6.0</td>\n",
              "      <td>36.0</td>\n",
              "    </tr>\n",
              "    <tr>\n",
              "      <th>3</th>\n",
              "      <td>1.0</td>\n",
              "      <td>-4.0</td>\n",
              "      <td>16.0</td>\n",
              "    </tr>\n",
              "    <tr>\n",
              "      <th>4</th>\n",
              "      <td>1.0</td>\n",
              "      <td>-2.0</td>\n",
              "      <td>4.0</td>\n",
              "    </tr>\n",
              "  </tbody>\n",
              "</table>\n",
              "</div>"
            ],
            "text/plain": [
              "     0     1      2\n",
              "0  1.0 -10.0  100.0\n",
              "1  1.0  -8.0   64.0\n",
              "2  1.0  -6.0   36.0\n",
              "3  1.0  -4.0   16.0\n",
              "4  1.0  -2.0    4.0"
            ]
          },
          "metadata": {
            "tags": []
          },
          "execution_count": 30
        }
      ]
    },
    {
      "cell_type": "code",
      "metadata": {
        "id": "VgKtctmRpyW3"
      },
      "source": [
        "#import bibioteki - model liniowy\n",
        "from sklearn.linear_model import LinearRegression\n"
      ],
      "execution_count": 14,
      "outputs": []
    },
    {
      "cell_type": "code",
      "metadata": {
        "colab": {
          "base_uri": "https://localhost:8080/"
        },
        "id": "8w33uS-Sp59N",
        "outputId": "06f8424e-2295-4f73-c845-cc07c740423d"
      },
      "source": [
        "regressor_polynomial=LinearRegression()\n",
        "regressor_polynomial.fit(X_polynomial,y)\n",
        "y_pred_wiel =regressor_polynomial.predict(X_polynomial)\n",
        "regressor_polynomial.score(X_polynomial,y)"
      ],
      "execution_count": 31,
      "outputs": [
        {
          "output_type": "execute_result",
          "data": {
            "text/plain": [
              "0.7605056057355987"
            ]
          },
          "metadata": {
            "tags": []
          },
          "execution_count": 31
        }
      ]
    },
    {
      "cell_type": "code",
      "metadata": {
        "colab": {
          "base_uri": "https://localhost:8080/",
          "height": 283
        },
        "id": "x2TKqepGqtON",
        "outputId": "bc82d717-ddec-4041-ce8e-370773d239e7"
      },
      "source": [
        "# porównuję model liniowy (czerwony) i wielomianowy (zielony)\n",
        "plt.figure(figsize=(6,4))\n",
        "plt.scatter(X,y)\n",
        "plt.plot(X,y_pred_lin, c=\"red\")\n",
        "plt.plot(X,y_pred_wiel, c=\"green\")"
      ],
      "execution_count": 32,
      "outputs": [
        {
          "output_type": "execute_result",
          "data": {
            "text/plain": [
              "[<matplotlib.lines.Line2D at 0x7f2b193c3550>]"
            ]
          },
          "metadata": {
            "tags": []
          },
          "execution_count": 32
        },
        {
          "output_type": "display_data",
          "data": {
            "image/png": "[encoded data removed]",
            "text/plain": [
              "<Figure size 432x288 with 1 Axes>"
            ]
          },
          "metadata": {
            "tags": [],
            "needs_background": "light"
          }
        }
      ]
    },
    {
      "cell_type": "code",
      "metadata": {
        "id": "9iJ5_RLZpYtk"
      },
      "source": [
        "# model wielomianowy lepiej dopasował się do danych z R2=77%"
      ],
      "execution_count": 17,
      "outputs": []
    },
    {
      "cell_type": "code",
      "metadata": {
        "id": "aL9lWdRYvWcZ"
      },
      "source": [
        "# sprawdzam wielomian stopnia 3"
      ],
      "execution_count": null,
      "outputs": []
    },
    {
      "cell_type": "code",
      "metadata": {
        "id": "UWz46K9vvcZ5"
      },
      "source": [
        "# import biblioteki\n",
        "from sklearn.preprocessing import PolynomialFeatures\n"
      ],
      "execution_count": 33,
      "outputs": []
    },
    {
      "cell_type": "code",
      "metadata": {
        "id": "SKmopHeNvfV-"
      },
      "source": [
        "# tworzeę wielomian stopnia 3 \n",
        "polynomial_3=PolynomialFeatures(degree=3)\n",
        "X_polynomial_3= polynomial_3.fit_transform(X)"
      ],
      "execution_count": 34,
      "outputs": []
    },
    {
      "cell_type": "code",
      "metadata": {
        "colab": {
          "base_uri": "https://localhost:8080/",
          "height": 206
        },
        "id": "Iowxiofnvpxw",
        "outputId": "bd788191-40c1-4238-c6fa-b7da535b4950"
      },
      "source": [
        "# sprawdzam jak wyglądają dane\n",
        "df_polynomial=pd.DataFrame(data=X_polynomial_3)\n",
        "\n",
        "df_polynomial.head()"
      ],
      "execution_count": 35,
      "outputs": [
        {
          "output_type": "execute_result",
          "data": {
            "text/html": [
              "<div>\n",
              "<style scoped>\n",
              "    .dataframe tbody tr th:only-of-type {\n",
              "        vertical-align: middle;\n",
              "    }\n",
              "\n",
              "    .dataframe tbody tr th {\n",
              "        vertical-align: top;\n",
              "    }\n",
              "\n",
              "    .dataframe thead th {\n",
              "        text-align: right;\n",
              "    }\n",
              "</style>\n",
              "<table border=\"1\" class=\"dataframe\">\n",
              "  <thead>\n",
              "    <tr style=\"text-align: right;\">\n",
              "      <th></th>\n",
              "      <th>0</th>\n",
              "      <th>1</th>\n",
              "      <th>2</th>\n",
              "      <th>3</th>\n",
              "    </tr>\n",
              "  </thead>\n",
              "  <tbody>\n",
              "    <tr>\n",
              "      <th>0</th>\n",
              "      <td>1.0</td>\n",
              "      <td>-10.0</td>\n",
              "      <td>100.0</td>\n",
              "      <td>-1000.0</td>\n",
              "    </tr>\n",
              "    <tr>\n",
              "      <th>1</th>\n",
              "      <td>1.0</td>\n",
              "      <td>-8.0</td>\n",
              "      <td>64.0</td>\n",
              "      <td>-512.0</td>\n",
              "    </tr>\n",
              "    <tr>\n",
              "      <th>2</th>\n",
              "      <td>1.0</td>\n",
              "      <td>-6.0</td>\n",
              "      <td>36.0</td>\n",
              "      <td>-216.0</td>\n",
              "    </tr>\n",
              "    <tr>\n",
              "      <th>3</th>\n",
              "      <td>1.0</td>\n",
              "      <td>-4.0</td>\n",
              "      <td>16.0</td>\n",
              "      <td>-64.0</td>\n",
              "    </tr>\n",
              "    <tr>\n",
              "      <th>4</th>\n",
              "      <td>1.0</td>\n",
              "      <td>-2.0</td>\n",
              "      <td>4.0</td>\n",
              "      <td>-8.0</td>\n",
              "    </tr>\n",
              "  </tbody>\n",
              "</table>\n",
              "</div>"
            ],
            "text/plain": [
              "     0     1      2       3\n",
              "0  1.0 -10.0  100.0 -1000.0\n",
              "1  1.0  -8.0   64.0  -512.0\n",
              "2  1.0  -6.0   36.0  -216.0\n",
              "3  1.0  -4.0   16.0   -64.0\n",
              "4  1.0  -2.0    4.0    -8.0"
            ]
          },
          "metadata": {
            "tags": []
          },
          "execution_count": 35
        }
      ]
    },
    {
      "cell_type": "code",
      "metadata": {
        "id": "UFIwwEWkvtbn"
      },
      "source": [
        "#import bibioteki - model liniowy\n",
        "from sklearn.linear_model import LinearRegression\n"
      ],
      "execution_count": null,
      "outputs": []
    },
    {
      "cell_type": "code",
      "metadata": {
        "colab": {
          "base_uri": "https://localhost:8080/"
        },
        "id": "ViirMhXnvvef",
        "outputId": "d202ea89-d26b-47a1-8047-a3263caf3812"
      },
      "source": [
        "regressor_polynomial_3=LinearRegression()\n",
        "regressor_polynomial_3.fit(X_polynomial_3,y)\n",
        "y_pred_wiel_3 =regressor_polynomial_3.predict(X_polynomial_3)\n",
        "regressor_polynomial_3.score(X_polynomial_3,y)"
      ],
      "execution_count": 36,
      "outputs": [
        {
          "output_type": "execute_result",
          "data": {
            "text/plain": [
              "0.999763843727746"
            ]
          },
          "metadata": {
            "tags": []
          },
          "execution_count": 36
        }
      ]
    },
    {
      "cell_type": "code",
      "metadata": {
        "colab": {
          "base_uri": "https://localhost:8080/",
          "height": 283
        },
        "id": "AhmlVOdiv8Js",
        "outputId": "c1ac443c-090e-4963-a0c0-c6224d11d78d"
      },
      "source": [
        "# porównuję model liniowy (czerwony) i wielomianowy (zielony)\n",
        "plt.figure(figsize=(6,4))\n",
        "plt.scatter(X,y)\n",
        "plt.plot(X,y_pred_lin, c=\"red\")\n",
        "plt.plot(X,y_pred_wiel, c=\"green\")\n",
        "plt.plot(X,y_pred_wiel_3, c=\"gold\")"
      ],
      "execution_count": 37,
      "outputs": [
        {
          "output_type": "execute_result",
          "data": {
            "text/plain": [
              "[<matplotlib.lines.Line2D at 0x7f2b1936df98>]"
            ]
          },
          "metadata": {
            "tags": []
          },
          "execution_count": 37
        },
        {
          "output_type": "display_data",
          "data": {
            "image/png": "[encoded data removed]",
            "text/plain": [
              "<Figure size 432x288 with 1 Axes>"
            ]
          },
          "metadata": {
            "tags": [],
            "needs_background": "light"
          }
        }
      ]
    },
    {
      "cell_type": "code",
      "metadata": {
        "id": "bMwXapq5wGu4"
      },
      "source": [
        "# model oparty o wielomian stopnia 3 zbyt dobrze dopasował się do danych"
      ],
      "execution_count": null,
      "outputs": []
    }
  ]
}
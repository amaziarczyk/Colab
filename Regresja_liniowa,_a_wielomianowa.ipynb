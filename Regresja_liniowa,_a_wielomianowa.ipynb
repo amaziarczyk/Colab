{
  "nbformat": 4,
  "nbformat_minor": 0,
  "metadata": {
    "colab": {
      "name": "Regresja liniowa, a wielomianowa.ipynb",
      "provenance": [],
      "authorship_tag": "ABX9TyM5jDTJqORJk8E/MQwpn8Cz",
      "include_colab_link": true
    },
    "kernelspec": {
      "name": "python3",
      "display_name": "Python 3"
    }
  },
  "cells": [
    {
      "cell_type": "markdown",
      "metadata": {
        "id": "view-in-github",
        "colab_type": "text"
      },
      "source": [
        "<a href=\"https://colab.research.google.com/github/amaziarczyk/Projects/blob/master/Regresja_liniowa%2C_a_wielomianowa.ipynb\" target=\"_parent\"><img src=\"https://colab.research.google.com/assets/colab-badge.svg\" alt=\"Open In Colab\"/></a>"
      ]
    },
    {
      "cell_type": "markdown",
      "metadata": {
        "id": "8Tzo8dypq3uJ"
      },
      "source": [
        "Porównanie modelu regresji prostej i wielomianowej"
      ]
    },
    {
      "cell_type": "markdown",
      "metadata": {
        "id": "ty0OCWyBr0So"
      },
      "source": [
        "a) Model liniowy"
      ]
    },
    {
      "cell_type": "code",
      "metadata": {
        "id": "uq1yWpxujR62"
      },
      "source": [
        "import pandas as pd\n",
        "import numpy as np\n",
        "import matplotlib.pyplot as plt\n",
        "import sklearn"
      ],
      "execution_count": 112,
      "outputs": []
    },
    {
      "cell_type": "code",
      "metadata": {
        "id": "eChV1jE3jgAS"
      },
      "source": [
        "# wygenerowanie danych\n",
        "X=np.arange(-10,20,2)\n",
        "noise=80*np.random.rand(15)\n",
        "y=-X**3+10*X**2-2*X+3+noise\n",
        "X=X.reshape(15,1)"
      ],
      "execution_count": 148,
      "outputs": []
    },
    {
      "cell_type": "code",
      "metadata": {
        "colab": {
          "base_uri": "https://localhost:8080/",
          "height": 283
        },
        "id": "zyWCxg_sjrZ2",
        "outputId": "1d79d260-25bd-476d-b706-57a887acc71a"
      },
      "source": [
        "# sprawdzam jak wyglądają dane\n",
        "plt.figure(figsize=(6,4))\n",
        "plt.scatter(X,y)"
      ],
      "execution_count": 149,
      "outputs": [
        {
          "output_type": "execute_result",
          "data": {
            "text/plain": [
              "<matplotlib.collections.PathCollection at 0x7f86f88f5470>"
            ]
          },
          "metadata": {
            "tags": []
          },
          "execution_count": 149
        },
        {
          "output_type": "display_data",
          "data": {
            "image/png": "[encoded data removed]",
            "text/plain": [
              "<Figure size 432x288 with 1 Axes>"
            ]
          },
          "metadata": {
            "tags": [],
            "needs_background": "light"
          }
        }
      ]
    },
    {
      "cell_type": "code",
      "metadata": {
        "id": "5Q5eQ6Bqj55z"
      },
      "source": [
        "#import regresji liniowej\n",
        "from sklearn.linear_model import LinearRegression"
      ],
      "execution_count": 123,
      "outputs": []
    },
    {
      "cell_type": "code",
      "metadata": {
        "colab": {
          "base_uri": "https://localhost:8080/"
        },
        "id": "_V2B8qs8kzOp",
        "outputId": "6ae55bd2-d245-47db-9ba3-25d8637bfd00"
      },
      "source": [
        "# sprawdzam dopasowanie modelu\n",
        "regressor=LinearRegression()\n",
        "regressor.fit(X,y)\n",
        "y_pred_lin=regressor.predict(X)\n",
        "regressor.score(X,y)"
      ],
      "execution_count": 150,
      "outputs": [
        {
          "output_type": "execute_result",
          "data": {
            "text/plain": [
              "0.7563561392275382"
            ]
          },
          "metadata": {
            "tags": []
          },
          "execution_count": 150
        }
      ]
    },
    {
      "cell_type": "code",
      "metadata": {
        "colab": {
          "base_uri": "https://localhost:8080/",
          "height": 283
        },
        "id": "bnjdFK5hlJVf",
        "outputId": "b8c77ce6-404a-4c27-f97b-7f99eb749210"
      },
      "source": [
        "# wizualna prezentacja dopasowania modelu liniowego\n",
        "plt.figure(figsize=(6,4))\n",
        "plt.scatter(X,y)\n",
        "plt.plot(X,y_pred_lin, c=\"red\")"
      ],
      "execution_count": 151,
      "outputs": [
        {
          "output_type": "execute_result",
          "data": {
            "text/plain": [
              "[<matplotlib.lines.Line2D at 0x7f86f8d18470>]"
            ]
          },
          "metadata": {
            "tags": []
          },
          "execution_count": 151
        },
        {
          "output_type": "display_data",
          "data": {
            "image/png": "[encoded data removed]",
            "text/plain": [
              "<Figure size 432x288 with 1 Axes>"
            ]
          },
          "metadata": {
            "tags": [],
            "needs_background": "light"
          }
        }
      ]
    },
    {
      "cell_type": "markdown",
      "metadata": {
        "id": "DwZu438Sr7Cz"
      },
      "source": [
        "b) Model wielomianowy\n"
      ]
    },
    {
      "cell_type": "markdown",
      "metadata": {
        "id": "L4a1WRHLsAsa"
      },
      "source": [
        "      - sposób I- ręczne wstawienie x^2"
      ]
    },
    {
      "cell_type": "code",
      "metadata": {
        "colab": {
          "base_uri": "https://localhost:8080/",
          "height": 206
        },
        "id": "CiWe1hExm8vD",
        "outputId": "1a6742b0-17f7-4c07-b471-36f79e00c19b"
      },
      "source": [
        "# tworze Data Frame ze zmienną stopnia 2 (x^2)\n",
        "df=pd.DataFrame(data=X)\n",
        "df.columns=['x']\n",
        "df['x^2']=df['x']**2\n",
        "df['1']=1\n",
        "df.head()"
      ],
      "execution_count": 156,
      "outputs": [
        {
          "output_type": "execute_result",
          "data": {
            "text/html": [
              "<div>\n",
              "<style scoped>\n",
              "    .dataframe tbody tr th:only-of-type {\n",
              "        vertical-align: middle;\n",
              "    }\n",
              "\n",
              "    .dataframe tbody tr th {\n",
              "        vertical-align: top;\n",
              "    }\n",
              "\n",
              "    .dataframe thead th {\n",
              "        text-align: right;\n",
              "    }\n",
              "</style>\n",
              "<table border=\"1\" class=\"dataframe\">\n",
              "  <thead>\n",
              "    <tr style=\"text-align: right;\">\n",
              "      <th></th>\n",
              "      <th>x</th>\n",
              "      <th>x^2</th>\n",
              "      <th>1</th>\n",
              "    </tr>\n",
              "  </thead>\n",
              "  <tbody>\n",
              "    <tr>\n",
              "      <th>0</th>\n",
              "      <td>-10</td>\n",
              "      <td>100</td>\n",
              "      <td>1</td>\n",
              "    </tr>\n",
              "    <tr>\n",
              "      <th>1</th>\n",
              "      <td>-8</td>\n",
              "      <td>64</td>\n",
              "      <td>1</td>\n",
              "    </tr>\n",
              "    <tr>\n",
              "      <th>2</th>\n",
              "      <td>-6</td>\n",
              "      <td>36</td>\n",
              "      <td>1</td>\n",
              "    </tr>\n",
              "    <tr>\n",
              "      <th>3</th>\n",
              "      <td>-4</td>\n",
              "      <td>16</td>\n",
              "      <td>1</td>\n",
              "    </tr>\n",
              "    <tr>\n",
              "      <th>4</th>\n",
              "      <td>-2</td>\n",
              "      <td>4</td>\n",
              "      <td>1</td>\n",
              "    </tr>\n",
              "  </tbody>\n",
              "</table>\n",
              "</div>"
            ],
            "text/plain": [
              "    x  x^2  1\n",
              "0 -10  100  1\n",
              "1  -8   64  1\n",
              "2  -6   36  1\n",
              "3  -4   16  1\n",
              "4  -2    4  1"
            ]
          },
          "metadata": {
            "tags": []
          },
          "execution_count": 156
        }
      ]
    },
    {
      "cell_type": "code",
      "metadata": {
        "colab": {
          "base_uri": "https://localhost:8080/"
        },
        "id": "MJaoJY5WnJ1_",
        "outputId": "e411184b-0e85-421c-f823-92f80abb74d7"
      },
      "source": [
        "# sprawdzam dopasowanie modelu\n",
        "regressor_2=LinearRegression()\n",
        "regressor_2.fit(df,y)\n",
        "y_pred_3=regressor_2.predict(df)\n",
        "regressor_2.score(df,y)"
      ],
      "execution_count": 158,
      "outputs": [
        {
          "output_type": "execute_result",
          "data": {
            "text/plain": [
              "0.7730452005681923"
            ]
          },
          "metadata": {
            "tags": []
          },
          "execution_count": 158
        }
      ]
    },
    {
      "cell_type": "code",
      "metadata": {
        "colab": {
          "base_uri": "https://localhost:8080/",
          "height": 283
        },
        "id": "en6-FC8tod_p",
        "outputId": "ecd80cfe-69ec-486f-8314-92a502d9173b"
      },
      "source": [
        "# porównuję modelliniowy (czerwony) i model wielomianowy (zielony)\n",
        "plt.figure(figsize=(6,4))\n",
        "plt.scatter(X,y)\n",
        "plt.plot(X,y_pred_lin, c=\"red\")\n",
        "plt.plot(X,y_pred_3, c=\"green\")"
      ],
      "execution_count": 159,
      "outputs": [
        {
          "output_type": "execute_result",
          "data": {
            "text/plain": [
              "[<matplotlib.lines.Line2D at 0x7f86f8b02b38>]"
            ]
          },
          "metadata": {
            "tags": []
          },
          "execution_count": 159
        },
        {
          "output_type": "display_data",
          "data": {
            "image/png": "[encoded data removed]",
            "text/plain": [
              "<Figure size 432x288 with 1 Axes>"
            ]
          },
          "metadata": {
            "tags": [],
            "needs_background": "light"
          }
        }
      ]
    },
    {
      "cell_type": "markdown",
      "metadata": {
        "id": "FiIGFpmis3qA"
      },
      "source": [
        "      -II sposób - sklearn"
      ]
    },
    {
      "cell_type": "code",
      "metadata": {
        "id": "f_GHRVCYo1IF"
      },
      "source": [
        "# import biblioteki\n",
        "from sklearn.preprocessing import PolynomialFeatures\n"
      ],
      "execution_count": 160,
      "outputs": []
    },
    {
      "cell_type": "code",
      "metadata": {
        "id": "-d4hweAkpBDu"
      },
      "source": [
        "# tworzeę wielomian\n",
        "polynomial=PolynomialFeatures()\n",
        "X_polynomial= polynomial.fit_transform(X)"
      ],
      "execution_count": 161,
      "outputs": []
    },
    {
      "cell_type": "code",
      "metadata": {
        "id": "Z4rX9oUwpo_7"
      },
      "source": [
        "# Zmienne: X_polynomial i y"
      ],
      "execution_count": null,
      "outputs": []
    },
    {
      "cell_type": "code",
      "metadata": {
        "colab": {
          "base_uri": "https://localhost:8080/",
          "height": 206
        },
        "id": "A8QVwEYDpQnh",
        "outputId": "e4f85017-e0f8-4faf-f989-43915669a1e0"
      },
      "source": [
        "# sprawdzam jak wyglądają dane\n",
        "df_polynomial=pd.DataFrame(data=X_polynomial)\n",
        "df_polynomial.columns=['1','x','x^2']\n",
        "df_polynomial.head()"
      ],
      "execution_count": 163,
      "outputs": [
        {
          "output_type": "execute_result",
          "data": {
            "text/html": [
              "<div>\n",
              "<style scoped>\n",
              "    .dataframe tbody tr th:only-of-type {\n",
              "        vertical-align: middle;\n",
              "    }\n",
              "\n",
              "    .dataframe tbody tr th {\n",
              "        vertical-align: top;\n",
              "    }\n",
              "\n",
              "    .dataframe thead th {\n",
              "        text-align: right;\n",
              "    }\n",
              "</style>\n",
              "<table border=\"1\" class=\"dataframe\">\n",
              "  <thead>\n",
              "    <tr style=\"text-align: right;\">\n",
              "      <th></th>\n",
              "      <th>1</th>\n",
              "      <th>x</th>\n",
              "      <th>x^2</th>\n",
              "    </tr>\n",
              "  </thead>\n",
              "  <tbody>\n",
              "    <tr>\n",
              "      <th>0</th>\n",
              "      <td>1.0</td>\n",
              "      <td>-10.0</td>\n",
              "      <td>100.0</td>\n",
              "    </tr>\n",
              "    <tr>\n",
              "      <th>1</th>\n",
              "      <td>1.0</td>\n",
              "      <td>-8.0</td>\n",
              "      <td>64.0</td>\n",
              "    </tr>\n",
              "    <tr>\n",
              "      <th>2</th>\n",
              "      <td>1.0</td>\n",
              "      <td>-6.0</td>\n",
              "      <td>36.0</td>\n",
              "    </tr>\n",
              "    <tr>\n",
              "      <th>3</th>\n",
              "      <td>1.0</td>\n",
              "      <td>-4.0</td>\n",
              "      <td>16.0</td>\n",
              "    </tr>\n",
              "    <tr>\n",
              "      <th>4</th>\n",
              "      <td>1.0</td>\n",
              "      <td>-2.0</td>\n",
              "      <td>4.0</td>\n",
              "    </tr>\n",
              "  </tbody>\n",
              "</table>\n",
              "</div>"
            ],
            "text/plain": [
              "     1     x    x^2\n",
              "0  1.0 -10.0  100.0\n",
              "1  1.0  -8.0   64.0\n",
              "2  1.0  -6.0   36.0\n",
              "3  1.0  -4.0   16.0\n",
              "4  1.0  -2.0    4.0"
            ]
          },
          "metadata": {
            "tags": []
          },
          "execution_count": 163
        }
      ]
    },
    {
      "cell_type": "code",
      "metadata": {
        "id": "VgKtctmRpyW3"
      },
      "source": [
        "#import bibioteki - model liniowy\n",
        "from sklearn.linear_model import LinearRegression\n"
      ],
      "execution_count": 165,
      "outputs": []
    },
    {
      "cell_type": "code",
      "metadata": {
        "colab": {
          "base_uri": "https://localhost:8080/"
        },
        "id": "8w33uS-Sp59N",
        "outputId": "8eaa49ad-ab4e-491f-ea0c-d036f0c7cc83"
      },
      "source": [
        "regressor_polynomial=LinearRegression()\n",
        "regressor_polynomial.fit(X_polynomial,y)\n",
        "y_pred_wiel =regressor_polynomial.predict(X_polynomial)\n",
        "regressor_polynomial.score(X_polynomial,y)"
      ],
      "execution_count": 167,
      "outputs": [
        {
          "output_type": "execute_result",
          "data": {
            "text/plain": [
              "0.7730452005681923"
            ]
          },
          "metadata": {
            "tags": []
          },
          "execution_count": 167
        }
      ]
    },
    {
      "cell_type": "code",
      "metadata": {
        "colab": {
          "base_uri": "https://localhost:8080/",
          "height": 283
        },
        "id": "x2TKqepGqtON",
        "outputId": "0189fdb4-94c7-4777-c5df-f042703eeeb7"
      },
      "source": [
        "# porównuję model liniowy (czerwony) i wielomianowy (zielony)\n",
        "plt.figure(figsize=(6,4))\n",
        "plt.scatter(X,y)\n",
        "plt.plot(X,y_pred_lin, c=\"red\")\n",
        "plt.plot(X,y_pred_wiel, c=\"green\")"
      ],
      "execution_count": 168,
      "outputs": [
        {
          "output_type": "execute_result",
          "data": {
            "text/plain": [
              "[<matplotlib.lines.Line2D at 0x7f86f8c37f28>]"
            ]
          },
          "metadata": {
            "tags": []
          },
          "execution_count": 168
        },
        {
          "output_type": "display_data",
          "data": {
            "image/png": "[encoded data removed]",
            "text/plain": [
              "<Figure size 432x288 with 1 Axes>"
            ]
          },
          "metadata": {
            "tags": [],
            "needs_background": "light"
          }
        }
      ]
    },
    {
      "cell_type": "code",
      "metadata": {
        "id": "9iJ5_RLZpYtk"
      },
      "source": [
        "# model wielomianowy lepiej dopasował się do danych z R2=77%"
      ],
      "execution_count": null,
      "outputs": []
    }
  ]
}
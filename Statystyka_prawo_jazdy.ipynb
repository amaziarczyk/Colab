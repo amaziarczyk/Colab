{
  "nbformat": 4,
  "nbformat_minor": 0,
  "metadata": {
    "colab": {
      "name": "Statystyka.ipynb",
      "provenance": [],
      "collapsed_sections": [],
      "mount_file_id": "1tKrOW8rwGA3hVEKjqH9DIezw8CwTS21q",
      "authorship_tag": "ABX9TyOJdwRCVWGOONhWc8wH6dIP",
      "include_colab_link": true
    },
    "kernelspec": {
      "name": "python3",
      "display_name": "Python 3"
    }
  },
  "cells": [
    {
      "cell_type": "markdown",
      "metadata": {
        "id": "view-in-github",
        "colab_type": "text"
      },
      "source": [
        "<a href=\"https://colab.research.google.com/github/amaziarczyk/Colab/blob/master/Statystyka_prawo_jazdy.ipynb\" target=\"_parent\"><img src=\"https://colab.research.google.com/assets/colab-badge.svg\" alt=\"Open In Colab\"/></a>"
      ]
    },
    {
      "cell_type": "markdown",
      "metadata": {
        "id": "aMflALS_ni5h",
        "colab_type": "text"
      },
      "source": [
        "# Badanie związku między województwem a płcią w prawie jazdy\n"
      ]
    },
    {
      "cell_type": "code",
      "metadata": {
        "id": "766Y01WYM_Fg",
        "colab_type": "code",
        "colab": {}
      },
      "source": [
        "import pandas as pd\n",
        "import plotly.express as px\n",
        "import plotly.figure_factory as ff\n",
        "\n",
        "from scipy import stats\n",
        "from statsmodels.stats import weightstats as stests"
      ],
      "execution_count": null,
      "outputs": []
    },
    {
      "cell_type": "code",
      "metadata": {
        "id": "16V-vkaLbQk8",
        "colab_type": "code",
        "colab": {
          "base_uri": "https://localhost:8080/",
          "height": 204
        },
        "outputId": "a6d54068-97b5-4153-96af-1ce51ad013a9"
      },
      "source": [
        "df=pd.read_csv(\"/content/drive/My Drive/Colab Notebooks/prawo_jazdy/nowe_prawa_jazdy_wg_plci_i_wieku(1-5.2020).csv\", sep=\"|\", encoding = \"windows-1250\")\n",
        "df.head()"
      ],
      "execution_count": null,
      "outputs": [
        {
          "output_type": "execute_result",
          "data": {
            "text/html": [
              "<div>\n",
              "<style scoped>\n",
              "    .dataframe tbody tr th:only-of-type {\n",
              "        vertical-align: middle;\n",
              "    }\n",
              "\n",
              "    .dataframe tbody tr th {\n",
              "        vertical-align: top;\n",
              "    }\n",
              "\n",
              "    .dataframe thead th {\n",
              "        text-align: right;\n",
              "    }\n",
              "</style>\n",
              "<table border=\"1\" class=\"dataframe\">\n",
              "  <thead>\n",
              "    <tr style=\"text-align: right;\">\n",
              "      <th></th>\n",
              "      <th>DATA_MC</th>\n",
              "      <th>KOD_WOJ</th>\n",
              "      <th>WOJEWODZTWO</th>\n",
              "      <th>PLEC</th>\n",
              "      <th>WIEK</th>\n",
              "      <th>LICZBA</th>\n",
              "    </tr>\n",
              "  </thead>\n",
              "  <tbody>\n",
              "    <tr>\n",
              "      <th>0</th>\n",
              "      <td>2020-01</td>\n",
              "      <td>2</td>\n",
              "      <td>WOJ. DOLNOŚLĄSKIE</td>\n",
              "      <td>K</td>\n",
              "      <td>40</td>\n",
              "      <td>15</td>\n",
              "    </tr>\n",
              "    <tr>\n",
              "      <th>1</th>\n",
              "      <td>2020-01</td>\n",
              "      <td>2</td>\n",
              "      <td>WOJ. DOLNOŚLĄSKIE</td>\n",
              "      <td>K</td>\n",
              "      <td>36</td>\n",
              "      <td>22</td>\n",
              "    </tr>\n",
              "    <tr>\n",
              "      <th>2</th>\n",
              "      <td>2020-01</td>\n",
              "      <td>2</td>\n",
              "      <td>WOJ. DOLNOŚLĄSKIE</td>\n",
              "      <td>K</td>\n",
              "      <td>61</td>\n",
              "      <td>1</td>\n",
              "    </tr>\n",
              "    <tr>\n",
              "      <th>3</th>\n",
              "      <td>2020-01</td>\n",
              "      <td>2</td>\n",
              "      <td>WOJ. DOLNOŚLĄSKIE</td>\n",
              "      <td>K</td>\n",
              "      <td>55</td>\n",
              "      <td>4</td>\n",
              "    </tr>\n",
              "    <tr>\n",
              "      <th>4</th>\n",
              "      <td>2020-01</td>\n",
              "      <td>2</td>\n",
              "      <td>WOJ. DOLNOŚLĄSKIE</td>\n",
              "      <td>K</td>\n",
              "      <td>56</td>\n",
              "      <td>2</td>\n",
              "    </tr>\n",
              "  </tbody>\n",
              "</table>\n",
              "</div>"
            ],
            "text/plain": [
              "   DATA_MC  KOD_WOJ        WOJEWODZTWO PLEC  WIEK  LICZBA\n",
              "0  2020-01        2  WOJ. DOLNOŚLĄSKIE    K    40      15\n",
              "1  2020-01        2  WOJ. DOLNOŚLĄSKIE    K    36      22\n",
              "2  2020-01        2  WOJ. DOLNOŚLĄSKIE    K    61       1\n",
              "3  2020-01        2  WOJ. DOLNOŚLĄSKIE    K    55       4\n",
              "4  2020-01        2  WOJ. DOLNOŚLĄSKIE    K    56       2"
            ]
          },
          "metadata": {
            "tags": []
          },
          "execution_count": 75
        }
      ]
    },
    {
      "cell_type": "code",
      "metadata": {
        "id": "5vl7Uzs6NDgc",
        "colab_type": "code",
        "colab": {}
      },
      "source": [
        "# PRZYGOTOWANIE DANYCH\n",
        "# zmiana formatu daty\n",
        "df[\"DATA_MC\"]=pd.to_datetime(df[\"DATA_MC\"])"
      ],
      "execution_count": null,
      "outputs": []
    },
    {
      "cell_type": "code",
      "metadata": {
        "id": "CSbQozQudwKC",
        "colab_type": "code",
        "colab": {
          "base_uri": "https://localhost:8080/",
          "height": 235
        },
        "outputId": "11510073-db55-4a12-db64-9fa8e3bfd199"
      },
      "source": [
        "# grupowanie wg płci\n",
        "df.groupby(['DATA_MC']).agg(dict(LICZBA=\"sum\"))"
      ],
      "execution_count": null,
      "outputs": [
        {
          "output_type": "execute_result",
          "data": {
            "text/html": [
              "<div>\n",
              "<style scoped>\n",
              "    .dataframe tbody tr th:only-of-type {\n",
              "        vertical-align: middle;\n",
              "    }\n",
              "\n",
              "    .dataframe tbody tr th {\n",
              "        vertical-align: top;\n",
              "    }\n",
              "\n",
              "    .dataframe thead th {\n",
              "        text-align: right;\n",
              "    }\n",
              "</style>\n",
              "<table border=\"1\" class=\"dataframe\">\n",
              "  <thead>\n",
              "    <tr style=\"text-align: right;\">\n",
              "      <th></th>\n",
              "      <th>LICZBA</th>\n",
              "    </tr>\n",
              "    <tr>\n",
              "      <th>DATA_MC</th>\n",
              "      <th></th>\n",
              "    </tr>\n",
              "  </thead>\n",
              "  <tbody>\n",
              "    <tr>\n",
              "      <th>2020-01-01</th>\n",
              "      <td>27811</td>\n",
              "    </tr>\n",
              "    <tr>\n",
              "      <th>2020-02-01</th>\n",
              "      <td>26955</td>\n",
              "    </tr>\n",
              "    <tr>\n",
              "      <th>2020-03-01</th>\n",
              "      <td>14513</td>\n",
              "    </tr>\n",
              "    <tr>\n",
              "      <th>2020-04-01</th>\n",
              "      <td>715</td>\n",
              "    </tr>\n",
              "    <tr>\n",
              "      <th>2020-05-01</th>\n",
              "      <td>8393</td>\n",
              "    </tr>\n",
              "  </tbody>\n",
              "</table>\n",
              "</div>"
            ],
            "text/plain": [
              "            LICZBA\n",
              "DATA_MC           \n",
              "2020-01-01   27811\n",
              "2020-02-01   26955\n",
              "2020-03-01   14513\n",
              "2020-04-01     715\n",
              "2020-05-01    8393"
            ]
          },
          "metadata": {
            "tags": []
          },
          "execution_count": 77
        }
      ]
    },
    {
      "cell_type": "code",
      "metadata": {
        "id": "Vhsb0xM7oy0a",
        "colab_type": "code",
        "colab": {
          "base_uri": "https://localhost:8080/",
          "height": 297
        },
        "outputId": "b5062646-a60c-4488-fbb5-a776d03194f1"
      },
      "source": [
        "# Statystyki opisowe\n",
        "df.describe()"
      ],
      "execution_count": null,
      "outputs": [
        {
          "output_type": "execute_result",
          "data": {
            "text/html": [
              "<div>\n",
              "<style scoped>\n",
              "    .dataframe tbody tr th:only-of-type {\n",
              "        vertical-align: middle;\n",
              "    }\n",
              "\n",
              "    .dataframe tbody tr th {\n",
              "        vertical-align: top;\n",
              "    }\n",
              "\n",
              "    .dataframe thead th {\n",
              "        text-align: right;\n",
              "    }\n",
              "</style>\n",
              "<table border=\"1\" class=\"dataframe\">\n",
              "  <thead>\n",
              "    <tr style=\"text-align: right;\">\n",
              "      <th></th>\n",
              "      <th>KOD_WOJ</th>\n",
              "      <th>WIEK</th>\n",
              "      <th>LICZBA</th>\n",
              "    </tr>\n",
              "  </thead>\n",
              "  <tbody>\n",
              "    <tr>\n",
              "      <th>count</th>\n",
              "      <td>4954.000000</td>\n",
              "      <td>4954.000000</td>\n",
              "      <td>4954.000000</td>\n",
              "    </tr>\n",
              "    <tr>\n",
              "      <th>mean</th>\n",
              "      <td>16.640694</td>\n",
              "      <td>35.468107</td>\n",
              "      <td>15.822971</td>\n",
              "    </tr>\n",
              "    <tr>\n",
              "      <th>std</th>\n",
              "      <td>9.375777</td>\n",
              "      <td>12.730963</td>\n",
              "      <td>53.610687</td>\n",
              "    </tr>\n",
              "    <tr>\n",
              "      <th>min</th>\n",
              "      <td>2.000000</td>\n",
              "      <td>14.000000</td>\n",
              "      <td>1.000000</td>\n",
              "    </tr>\n",
              "    <tr>\n",
              "      <th>25%</th>\n",
              "      <td>8.000000</td>\n",
              "      <td>25.000000</td>\n",
              "      <td>2.000000</td>\n",
              "    </tr>\n",
              "    <tr>\n",
              "      <th>50%</th>\n",
              "      <td>16.000000</td>\n",
              "      <td>34.000000</td>\n",
              "      <td>4.000000</td>\n",
              "    </tr>\n",
              "    <tr>\n",
              "      <th>75%</th>\n",
              "      <td>24.000000</td>\n",
              "      <td>45.000000</td>\n",
              "      <td>10.000000</td>\n",
              "    </tr>\n",
              "    <tr>\n",
              "      <th>max</th>\n",
              "      <td>32.000000</td>\n",
              "      <td>75.000000</td>\n",
              "      <td>1024.000000</td>\n",
              "    </tr>\n",
              "  </tbody>\n",
              "</table>\n",
              "</div>"
            ],
            "text/plain": [
              "           KOD_WOJ         WIEK       LICZBA\n",
              "count  4954.000000  4954.000000  4954.000000\n",
              "mean     16.640694    35.468107    15.822971\n",
              "std       9.375777    12.730963    53.610687\n",
              "min       2.000000    14.000000     1.000000\n",
              "25%       8.000000    25.000000     2.000000\n",
              "50%      16.000000    34.000000     4.000000\n",
              "75%      24.000000    45.000000    10.000000\n",
              "max      32.000000    75.000000  1024.000000"
            ]
          },
          "metadata": {
            "tags": []
          },
          "execution_count": 78
        }
      ]
    },
    {
      "cell_type": "code",
      "metadata": {
        "id": "hrpj3HO2k56L",
        "colab_type": "code",
        "colab": {
          "base_uri": "https://localhost:8080/",
          "height": 306
        },
        "outputId": "61b6327f-fff4-4f87-d62f-104389492136"
      },
      "source": [
        "# Liczba praw jazdy wedlug województw\n",
        "df['WOJEWODZTWO'].value_counts()"
      ],
      "execution_count": null,
      "outputs": [
        {
          "output_type": "execute_result",
          "data": {
            "text/plain": [
              "WOJ. MAZOWIECKIE            388\n",
              "WOJ. DOLNOŚLĄSKIE           373\n",
              "WOJ. WIELKOPOLSKIE          347\n",
              "WOJ. ŁÓDZKIE                327\n",
              "WOJ. KUJAWSKO-POMORSKIE     322\n",
              "WOJ. LUBELSKIE              316\n",
              "WOJ. POMORSKIE              312\n",
              "WOJ. ŚLĄSKIE                309\n",
              "WOJ. MAŁOPOLSKIE            306\n",
              "WOJ. WARMIŃSKO-MAZURSKIE    300\n",
              "WOJ. LUBUSKIE               299\n",
              "WOJ. ZACHODNIOPOMORSKIE     298\n",
              "WOJ. PODLASKIE              290\n",
              "WOJ. PODKARPACKIE           287\n",
              "WOJ. ŚWIĘTOKRZYSKIE         247\n",
              "WOJ. OPOLSKIE               233\n",
              "Name: WOJEWODZTWO, dtype: int64"
            ]
          },
          "metadata": {
            "tags": []
          },
          "execution_count": 79
        }
      ]
    },
    {
      "cell_type": "code",
      "metadata": {
        "id": "-nluFztlppaH",
        "colab_type": "code",
        "colab": {}
      },
      "source": [
        "# porównanie liczby kobiet i mezczyzn (test t-studenta, n>100 => r.normalny)\n",
        "## H0: tyle samo kobiet zdało prawo jazdy co mezczyzn\n",
        "## H1: wiecej kobiet zdało \n"
      ],
      "execution_count": null,
      "outputs": []
    },
    {
      "cell_type": "code",
      "metadata": {
        "id": "025UHXHz3lfU",
        "colab_type": "code",
        "colab": {}
      },
      "source": [
        "#grupowanie\n",
        "df_k = df[df['PLEC']==\"K\"]\n",
        "kobiety= df_k['LICZBA']\n",
        "\n",
        "df_m = df[df['PLEC']==\"M\"]\n",
        "mezczyzni = df_m['LICZBA']\n"
      ],
      "execution_count": null,
      "outputs": []
    },
    {
      "cell_type": "code",
      "metadata": {
        "id": "Z3b5QlOevg-0",
        "colab_type": "code",
        "colab": {
          "base_uri": "https://localhost:8080/",
          "height": 68
        },
        "outputId": "c396c0bd-9302-4b43-9bd0-16b8b886b9fc"
      },
      "source": [
        "# p-value (alpha=0,05)\n",
        "stat, pvalue=stats.ttest_ind(kobiety,mezczyzni)\n",
        "print (\"p-value= \", pvalue)\n",
        "\n",
        "if pvalue<0.05:\n",
        "  print(\"p<0,05 \\n Odrzucamy H0 o braku różnic w liczbie zdanych praw jazdy między kobietami i mężczyznami\")\n",
        "else:\n",
        "  print(\"p>0,05 \\n Brak podstaw do odrzucenia hipotezy o braku różnic w liczbie zdanych praw jazdy między kobietami i mężczyznami\")"
      ],
      "execution_count": null,
      "outputs": [
        {
          "output_type": "stream",
          "text": [
            "p-value=  0.25287445295774164\n",
            "p>0,05 \n",
            " Brak podstaw do odrzucenia hipotezy o braku różnic w liczbie zdanych praw jazdy między kobietami i mężczyznami\n"
          ],
          "name": "stdout"
        }
      ]
    },
    {
      "cell_type": "code",
      "metadata": {
        "id": "RKcBONr_3GFD",
        "colab_type": "code",
        "colab": {
          "base_uri": "https://localhost:8080/",
          "height": 111
        },
        "outputId": "682c20d8-5468-429c-9c6d-e5cf6a87459a"
      },
      "source": [
        "# sprawdzenie, że liczba kobiet i meżczyzn jest różna\n",
        "\n",
        "a= df.groupby(['PLEC'])['LICZBA'].sum().reset_index()\n",
        "a"
      ],
      "execution_count": null,
      "outputs": [
        {
          "output_type": "execute_result",
          "data": {
            "text/html": [
              "<div>\n",
              "<style scoped>\n",
              "    .dataframe tbody tr th:only-of-type {\n",
              "        vertical-align: middle;\n",
              "    }\n",
              "\n",
              "    .dataframe tbody tr th {\n",
              "        vertical-align: top;\n",
              "    }\n",
              "\n",
              "    .dataframe thead th {\n",
              "        text-align: right;\n",
              "    }\n",
              "</style>\n",
              "<table border=\"1\" class=\"dataframe\">\n",
              "  <thead>\n",
              "    <tr style=\"text-align: right;\">\n",
              "      <th></th>\n",
              "      <th>PLEC</th>\n",
              "      <th>LICZBA</th>\n",
              "    </tr>\n",
              "  </thead>\n",
              "  <tbody>\n",
              "    <tr>\n",
              "      <th>0</th>\n",
              "      <td>K</td>\n",
              "      <td>39477</td>\n",
              "    </tr>\n",
              "    <tr>\n",
              "      <th>1</th>\n",
              "      <td>M</td>\n",
              "      <td>38910</td>\n",
              "    </tr>\n",
              "  </tbody>\n",
              "</table>\n",
              "</div>"
            ],
            "text/plain": [
              "  PLEC  LICZBA\n",
              "0    K   39477\n",
              "1    M   38910"
            ]
          },
          "metadata": {
            "tags": []
          },
          "execution_count": 87
        }
      ]
    },
    {
      "cell_type": "code",
      "metadata": {
        "id": "RKjX6N4B3IzG",
        "colab_type": "code",
        "colab": {
          "base_uri": "https://localhost:8080/",
          "height": 82
        },
        "outputId": "8746ccd1-7514-4fef-f9e1-c5cc3e57bb30"
      },
      "source": [
        "# korelacja między wiekiem a liczbą\n",
        "korelacja= df[['WIEK','LICZBA']].corr()\n",
        "korelacja.style.background_gradient(cmap=\"RdBu_r\")"
      ],
      "execution_count": null,
      "outputs": [
        {
          "output_type": "execute_result",
          "data": {
            "text/html": [
              "<style  type=\"text/css\" >\n",
              "    #T_0c41e142_d7f2_11ea_b43d_0242ac1c0002row0_col0 {\n",
              "            background-color:  #67001f;\n",
              "            color:  #f1f1f1;\n",
              "        }    #T_0c41e142_d7f2_11ea_b43d_0242ac1c0002row0_col1 {\n",
              "            background-color:  #053061;\n",
              "            color:  #f1f1f1;\n",
              "        }    #T_0c41e142_d7f2_11ea_b43d_0242ac1c0002row1_col0 {\n",
              "            background-color:  #053061;\n",
              "            color:  #f1f1f1;\n",
              "        }    #T_0c41e142_d7f2_11ea_b43d_0242ac1c0002row1_col1 {\n",
              "            background-color:  #67001f;\n",
              "            color:  #f1f1f1;\n",
              "        }</style><table id=\"T_0c41e142_d7f2_11ea_b43d_0242ac1c0002\" ><thead>    <tr>        <th class=\"blank level0\" ></th>        <th class=\"col_heading level0 col0\" >WIEK</th>        <th class=\"col_heading level0 col1\" >LICZBA</th>    </tr></thead><tbody>\n",
              "                <tr>\n",
              "                        <th id=\"T_0c41e142_d7f2_11ea_b43d_0242ac1c0002level0_row0\" class=\"row_heading level0 row0\" >WIEK</th>\n",
              "                        <td id=\"T_0c41e142_d7f2_11ea_b43d_0242ac1c0002row0_col0\" class=\"data row0 col0\" >1.000000</td>\n",
              "                        <td id=\"T_0c41e142_d7f2_11ea_b43d_0242ac1c0002row0_col1\" class=\"data row0 col1\" >-0.283396</td>\n",
              "            </tr>\n",
              "            <tr>\n",
              "                        <th id=\"T_0c41e142_d7f2_11ea_b43d_0242ac1c0002level0_row1\" class=\"row_heading level0 row1\" >LICZBA</th>\n",
              "                        <td id=\"T_0c41e142_d7f2_11ea_b43d_0242ac1c0002row1_col0\" class=\"data row1 col0\" >-0.283396</td>\n",
              "                        <td id=\"T_0c41e142_d7f2_11ea_b43d_0242ac1c0002row1_col1\" class=\"data row1 col1\" >1.000000</td>\n",
              "            </tr>\n",
              "    </tbody></table>"
            ],
            "text/plain": [
              "<pandas.io.formats.style.Styler at 0x7f1cfe77fb00>"
            ]
          },
          "metadata": {
            "tags": []
          },
          "execution_count": 114
        }
      ]
    },
    {
      "cell_type": "code",
      "metadata": {
        "id": "iTcIWMWA-Qg4",
        "colab_type": "code",
        "colab": {}
      },
      "source": [
        ""
      ],
      "execution_count": null,
      "outputs": []
    }
  ]
}